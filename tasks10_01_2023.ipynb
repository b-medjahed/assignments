{
 "cells": [
  {
   "cell_type": "code",
   "execution_count": 2,
   "metadata": {},
   "outputs": [
    {
     "name": "stdout",
     "output_type": "stream",
     "text": [
      "your total is : 27\n"
     ]
    }
   ],
   "source": [
    "#task1\n",
    "total=0\n",
    "number=int(input(\"Please enter your number. Enter 0 if you would like to stop:  \"))\n",
    "while number!=0:\n",
    "    total=total+number\n",
    "    number=int(input(\"Please enter your number. Enter 0 if you would like to stop:  \"))\n",
    "print(\"your total is :\" , total)"
   ]
  },
  {
   "cell_type": "code",
   "execution_count": 4,
   "metadata": {},
   "outputs": [
    {
     "name": "stdout",
     "output_type": "stream",
     "text": [
      "You were born in leap year.\n"
     ]
    }
   ],
   "source": [
    "#task2\n",
    "year=int(input(\"Enter your year of birth: \"))\n",
    "if year % 4 == 0:\n",
    "    print(\"You were born in leap year.\")\n",
    "else:\n",
    "    print(\"You were not born in leap year.\")"
   ]
  },
  {
   "cell_type": "code",
   "execution_count": 10,
   "metadata": {},
   "outputs": [
    {
     "name": "stdout",
     "output_type": "stream",
     "text": [
      "Your fee is £2.50\n"
     ]
    }
   ],
   "source": [
    "#task3\n",
    "age=int(input(\"Please nter your age: \"))\n",
    "if age<20 or age>65:\n",
    "  price=0\n",
    "  print(\"Congratulation it is free.\")\n",
    "else:\n",
    "  while True:\n",
    "    swimcard=input(\"Do you have a swimcard? input yes or no :   \")\n",
    "    if swimcard==\"yes\":\n",
    "        print(\"Your fee is £2.50\")\n",
    "        break\n",
    "    if swimcard==\"no\":\n",
    "        print(\"Your fee is £5.00\")\n",
    "        break\n",
    "    else:\n",
    "        print(\"Please enter your answer in lowercase. Please rememnber to use yes or no.\")\n"
   ]
  },
  {
   "cell_type": "code",
   "execution_count": 11,
   "metadata": {},
   "outputs": [
    {
     "name": "stdout",
     "output_type": "stream",
     "text": [
      "The first number is greater than the second number\n",
      "5\n"
     ]
    }
   ],
   "source": [
    "#task4\n",
    "var1=int(input(\"Enter your first number: \"))\n",
    "var2=int(input(\"Enter your second number: \"))\n",
    "if var1 > var2 :\n",
    "    print(\"The first number is greater than the second number\")\n",
    "    print(var1)\n",
    "else:\n",
    "    print(var2)"
   ]
  }
 ],
 "metadata": {
  "kernelspec": {
   "display_name": "Python 3",
   "language": "python",
   "name": "python3"
  },
  "language_info": {
   "codemirror_mode": {
    "name": "ipython",
    "version": 3
   },
   "file_extension": ".py",
   "mimetype": "text/x-python",
   "name": "python",
   "nbconvert_exporter": "python",
   "pygments_lexer": "ipython3",
   "version": "3.11.1"
  },
  "orig_nbformat": 4,
  "vscode": {
   "interpreter": {
    "hash": "c261aea317cc0286b3b3261fbba9abdec21eaa57589985bb7a274bf54d6cc0a7"
   }
  }
 },
 "nbformat": 4,
 "nbformat_minor": 2
}
